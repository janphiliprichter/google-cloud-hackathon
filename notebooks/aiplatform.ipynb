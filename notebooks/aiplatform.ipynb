{
 "cells": [
  {
   "cell_type": "markdown",
   "id": "a5d498f7",
   "metadata": {},
   "source": [
    "# GCP Vertex AI predictions\n",
    "\n",
    "To authenticate the requests, you need to create a service account with role \"Vertex AI Custom Code Service Agent\" on GCP and generate the credentials. Download the JSON file containing the credentials, rename it `key.json`, and place it into this folder.\n",
    "\n",
    "Useful links: https://cloud.google.com/iam/docs/keys-create-delete"
   ]
  },
  {
   "cell_type": "code",
   "execution_count": 1,
   "id": "424b559d",
   "metadata": {},
   "source": [
    "import pandas as pd\n",
    "from google.oauth2 import service_account\n",
    "from google.cloud.aiplatform import Endpoint"
   ],
   "outputs": []
  },
  {
   "cell_type": "markdown",
   "id": "0ea09212",
   "metadata": {},
   "source": [
    "### Read the credentials"
   ]
  },
  {
   "cell_type": "code",
   "execution_count": 2,
   "id": "f2a47cfd",
   "metadata": {},
   "source": [
    "credentials = service_account.Credentials.from_service_account_file('key.json')"
   ],
   "outputs": []
  },
  {
   "cell_type": "markdown",
   "id": "8169abcf",
   "metadata": {},
   "source": [
    "### Connect to the endpoint"
   ]
  },
  {
   "cell_type": "code",
   "execution_count": 3,
   "id": "5f81eb43",
   "metadata": {},
   "source": [
    "endpoint = Endpoint(\n",
    "    endpoint_name=\"5592322847054757888\",\n",
    "    project=\"dse-hackathon-2023\",\n",
    "    location=\"us-central1\",\n",
    "    credentials=credentials,\n",
    ")"
   ],
   "outputs": []
  },
  {
   "cell_type": "markdown",
   "id": "b4a498cb",
   "metadata": {},
   "source": [
    "### Load data"
   ]
  },
  {
   "cell_type": "code",
   "execution_count": 4,
   "id": "da770b51",
   "metadata": {},
   "source": [
    "zoo = pd.read_csv(\"../data/zoo.csv\")\n",
    "X = zoo.iloc[:,1:-1]"
   ],
   "outputs": []
  },
  {
   "cell_type": "markdown",
   "id": "da420909",
   "metadata": {},
   "source": [
    "### Predict"
   ]
  },
  {
   "cell_type": "code",
   "execution_count": 5,
   "id": "30609f49",
   "metadata": {},
   "source": [
    "n = 0\n",
    "predictions = endpoint.predict(instances=[list(X.iloc[n])])\n",
    "print(zoo.iloc[n], '\\n')\n",
    "print(predictions)"
   ],
   "outputs": []
  }
 ],
 "metadata": {
  "kernelspec": {
   "display_name": "Python 3 (ipykernel)",
   "language": "python",
   "name": "python3"
  },
  "language_info": {
   "codemirror_mode": {
    "name": "ipython",
    "version": 3
   },
   "file_extension": ".py",
   "mimetype": "text/x-python",
   "name": "python",
   "nbconvert_exporter": "python",
   "pygments_lexer": "ipython3",
   "version": "3.7.0"
  }
 },
 "nbformat": 4,
 "nbformat_minor": 5
}
