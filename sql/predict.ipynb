{
 "cells": [
  {
   "cell_type": "markdown",
   "id": "74ba10fd",
   "metadata": {},
   "source": [
    "# Local predictions with SQL\n",
    "\n",
    "Before running this notebook, you should configure the environment variables in the file `.env.edit` and rename it into `.env`."
   ]
  },
  {
   "cell_type": "code",
   "execution_count": 1,
   "id": "0c84bbaf",
   "metadata": {},
   "source": [
    "import os\n",
    "from sqlalchemy import create_engine\n",
    "from bornrule.sql import BornClassifierSQL\n",
    "from dotenv import load_dotenv\n",
    "load_dotenv(\".env\")"
   ],
   "outputs": []
  },
  {
   "cell_type": "markdown",
   "id": "ad403ae0",
   "metadata": {},
   "source": [
    "### Check environment variables to connect to PostgreSQL"
   ]
  },
  {
   "cell_type": "code",
   "execution_count": 2,
   "id": "38668687",
   "metadata": {},
   "source": [
    "credentials = ['DB_USER', 'DB_PASS', 'DB_NAME', 'DB_HOST']\n",
    "db = [os.getenv(c) for c in credentials]\n",
    "print(db)"
   ],
   "outputs": []
  },
  {
   "cell_type": "markdown",
   "id": "317feec7",
   "metadata": {},
   "source": [
    "### Initialize the classifier with the pre-trained 'zoo' model on the PostgreSQL backend"
   ]
  },
  {
   "cell_type": "code",
   "execution_count": 3,
   "id": "bc9b0cbe",
   "metadata": {},
   "source": [
    "engine = create_engine(f\"postgresql+psycopg2://{db[0]}:{db[1]}@/{db[2]}?host={db[3]}\")\n",
    "classifier = BornClassifierSQL(id=\"zoo\", engine=engine)"
   ],
   "outputs": []
  },
  {
   "cell_type": "markdown",
   "id": "ea403a11",
   "metadata": {},
   "source": [
    "### Explain the model: which are the top 10 features more relevant for mammals?"
   ]
  },
  {
   "cell_type": "code",
   "execution_count": 4,
   "id": "f39cd5e2",
   "metadata": {},
   "source": [
    "weights = classifier.explain()\n",
    "weights.sort_values(by=\"Mammal\", ascending=False)[0:10]"
   ],
   "outputs": []
  },
  {
   "cell_type": "markdown",
   "id": "1541b7be",
   "metadata": {},
   "source": [
    "### Define some test instances"
   ]
  },
  {
   "cell_type": "code",
   "execution_count": 5,
   "id": "93bdf68e",
   "metadata": {},
   "source": [
    "animals = [\n",
    "    {\n",
    "        \"legs=4\": 1,\n",
    "        \"hair=1\": 1,\n",
    "    },\n",
    "    {\n",
    "        \"fins=1\": 1,\n",
    "        \"legs=0\": 1,\n",
    "    },\n",
    "\n",
    "]"
   ],
   "outputs": []
  },
  {
   "cell_type": "markdown",
   "id": "cdbc5b6b",
   "metadata": {},
   "source": [
    "### Predict the test instances"
   ]
  },
  {
   "cell_type": "code",
   "execution_count": 6,
   "id": "67596de4",
   "metadata": {},
   "source": [
    "pred = classifier.predict(animals)\n",
    "pred"
   ],
   "outputs": []
  },
  {
   "cell_type": "markdown",
   "id": "bd92a783",
   "metadata": {},
   "source": [
    "### Explain the predictions on the test instances"
   ]
  },
  {
   "cell_type": "code",
   "execution_count": 7,
   "id": "218ad6cf",
   "metadata": {},
   "source": [
    "classifier.explain(animals[0:1]).sort_values(by=pred[0], ascending=False)"
   ],
   "outputs": []
  },
  {
   "cell_type": "code",
   "execution_count": 8,
   "id": "79aed20f",
   "metadata": {},
   "source": [
    "classifier.explain(animals[1:2]).sort_values(by=pred[1], ascending=False)"
   ],
   "outputs": []
  }
 ],
 "metadata": {
  "kernelspec": {
   "display_name": "Python 3 (ipykernel)",
   "language": "python",
   "name": "python3"
  },
  "language_info": {
   "codemirror_mode": {
    "name": "ipython",
    "version": 3
   },
   "file_extension": ".py",
   "mimetype": "text/x-python",
   "name": "python",
   "nbconvert_exporter": "python",
   "pygments_lexer": "ipython3",
   "version": "3.7.0"
  }
 },
 "nbformat": 4,
 "nbformat_minor": 5
}
