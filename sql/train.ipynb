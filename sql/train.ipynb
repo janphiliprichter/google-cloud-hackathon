{
 "cells": [
  {
   "cell_type": "markdown",
   "id": "d38eef59",
   "metadata": {},
   "source": [
    "# Training with SQL\n",
    "\n",
    "Before running this notebook, you should configure the environment variables in the file `.env.edit` and rename it into `.env`."
   ]
  },
  {
   "cell_type": "code",
   "execution_count": 1,
   "id": "287676ec",
   "metadata": {},
   "source": [
    "import os\n",
    "import pandas as pd\n",
    "from sqlalchemy import String\n",
    "from sqlalchemy import create_engine\n",
    "from bornrule.sql import BornClassifierSQL\n",
    "from dotenv import load_dotenv\n",
    "load_dotenv(\".env\")"
   ],
   "outputs": []
  },
  {
   "cell_type": "markdown",
   "id": "0bb421f6",
   "metadata": {},
   "source": [
    "### Check environment variables to connect to PostgreSQL"
   ]
  },
  {
   "cell_type": "code",
   "execution_count": 2,
   "id": "1232e70b",
   "metadata": {},
   "source": [
    "credentials = ['DB_USER', 'DB_PASS', 'DB_NAME', 'DB_HOST']\n",
    "db = [os.getenv(c) for c in credentials]\n",
    "print(db)"
   ],
   "outputs": []
  },
  {
   "cell_type": "markdown",
   "id": "9d569ba2",
   "metadata": {},
   "source": [
    "### Initialize the classifier with the PostgreSQL backend"
   ]
  },
  {
   "cell_type": "code",
   "execution_count": 3,
   "id": "8da9e465",
   "metadata": {},
   "source": [
    "engine = create_engine(f\"postgresql+psycopg2://{db[0]}:{db[1]}@/{db[2]}?host={db[3]}\")\n",
    "classifier = BornClassifierSQL(id=\"zoo\", engine=engine, type_class=String)"
   ],
   "outputs": []
  },
  {
   "cell_type": "markdown",
   "id": "e3b7f068",
   "metadata": {},
   "source": [
    "### Load data and transform to list of dict"
   ]
  },
  {
   "cell_type": "code",
   "execution_count": 4,
   "id": "cc662c50",
   "metadata": {},
   "source": [
    "zoo = pd.read_csv(\"../data/zoo.csv\")\n",
    "zoo_lst = [{f\"{k}={v}\": 1 for k, v in animal.items()} for animal in zoo.iloc[:,1:-1].to_dict(orient=\"records\")]\n",
    "print(zoo_lst[0])"
   ],
   "outputs": []
  },
  {
   "cell_type": "markdown",
   "id": "20371691",
   "metadata": {},
   "source": [
    "### Populate the database for training"
   ]
  },
  {
   "cell_type": "code",
   "execution_count": 5,
   "id": "a1dd9279",
   "metadata": {},
   "source": [
    "classifier.fit(zoo_lst, zoo.class_type)"
   ],
   "outputs": []
  },
  {
   "cell_type": "markdown",
   "id": "08c9aaa4",
   "metadata": {},
   "source": [
    "### Query the database for prediction"
   ]
  },
  {
   "cell_type": "code",
   "execution_count": 6,
   "id": "e833292d",
   "metadata": {},
   "source": [
    "classifier.predict(zoo_lst[0:1])"
   ],
   "outputs": []
  },
  {
   "cell_type": "markdown",
   "id": "df7a49dc",
   "metadata": {},
   "source": [
    "### Deploy to speed up inference time"
   ]
  },
  {
   "cell_type": "code",
   "execution_count": 7,
   "id": "959f6e76",
   "metadata": {},
   "source": [
    "classifier.deploy()  # undeploy with: classifier.undeploy()"
   ],
   "outputs": []
  },
  {
   "cell_type": "markdown",
   "id": "c3b0dfe9",
   "metadata": {},
   "source": [
    "Full documentation available at https://bornrule.eguidotti.com/sql/"
   ]
  }
 ],
 "metadata": {
  "kernelspec": {
   "display_name": "Python 3 (ipykernel)",
   "language": "python",
   "name": "python3"
  },
  "language_info": {
   "codemirror_mode": {
    "name": "ipython",
    "version": 3
   },
   "file_extension": ".py",
   "mimetype": "text/x-python",
   "name": "python",
   "nbconvert_exporter": "python",
   "pygments_lexer": "ipython3",
   "version": "3.7.0"
  }
 },
 "nbformat": 4,
 "nbformat_minor": 5
}
